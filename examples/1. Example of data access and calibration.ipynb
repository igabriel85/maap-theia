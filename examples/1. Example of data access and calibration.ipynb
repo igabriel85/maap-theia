{
 "cells": [
  {
   "cell_type": "markdown",
   "metadata": {},
   "source": [
    "# Example of data access via the s3 bucket and data calibration"
   ]
  },
  {
   "cell_type": "markdown",
   "metadata": {},
   "source": [
    "Example of data access and calibration of P-band SAR data on the NASA MAAP."
   ]
  },
  {
   "cell_type": "markdown",
   "metadata": {},
   "source": [
    "Load the libraries"
   ]
  },
  {
   "cell_type": "code",
   "execution_count": null,
   "metadata": {},
   "outputs": [],
   "source": [
    "from osgeo import gdal\n",
    "from gdalconst import GA_ReadOnly\n",
    "import numpy as np\n",
    "import matplotlib.pyplot as plt\n",
    "import scipy.signal as sg\n",
    "import sys\n",
    "sys.path.insert(0, '/projects/Scripts')\n",
    "\n",
    "# Increase figure size (can be modified for bigger or smaller figures):\n",
    "plt.rcParams[\"figure.figsize\"] = 20,20"
   ]
  },
  {
   "cell_type": "markdown",
   "metadata": {},
   "source": [
    "## 1. Open a P-band SAR image"
   ]
  },
  {
   "cell_type": "markdown",
   "metadata": {},
   "source": [
    "Open SAR image (HV polarisation) in slant range geometry"
   ]
  },
  {
   "cell_type": "code",
   "execution_count": null,
   "metadata": {},
   "outputs": [],
   "source": [
    "inputFilename = '/projects/s3-drive/catalog-data/Campaign_data/afrisar_dlr/afrisar_dlr_T2-0_SLC_HV.tiff'\n",
    "input_image_driver = gdal.Open(inputFilename, GA_ReadOnly)\n",
    "input_image = input_image_driver.ReadAsArray()\n",
    "RasterXSize = input_image_driver.RasterXSize\n",
    "RasterYSize = input_image_driver.RasterYSize\n",
    "input_image_driver = None"
   ]
  },
  {
   "cell_type": "markdown",
   "metadata": {},
   "source": [
    "Display SAR image in slant range geometry"
   ]
  },
  {
   "cell_type": "code",
   "execution_count": null,
   "metadata": {},
   "outputs": [],
   "source": [
    "imgplot = plt.imshow(np.absolute(input_image))"
   ]
  },
  {
   "cell_type": "markdown",
   "metadata": {},
   "source": [
    "## 2. Open DEM and compute local incidence angle"
   ]
  },
  {
   "cell_type": "markdown",
   "metadata": {},
   "source": [
    "Define SAR image parameters "
   ]
  },
  {
   "cell_type": "code",
   "execution_count": null,
   "metadata": {},
   "outputs": [],
   "source": [
    "pixel_spacing_rg = 1.1988876\n",
    "z_flight = 6383.36\n",
    "z_terrain = 287.50\n",
    "SLR_start = 6536.3352"
   ]
  },
  {
   "cell_type": "markdown",
   "metadata": {},
   "source": [
    "Project DEM from ground-range to slant-range (sensor) geometry"
   ]
  },
  {
   "cell_type": "code",
   "execution_count": null,
   "metadata": {},
   "outputs": [],
   "source": [
    "demGrdFile = '/projects/s3-drive/catalog-data/Campaign_data/afrisar_dlr/afrisar_dlr_dem_S_T2-0.tiff'\n",
    "demSlrFile = '/projects/dem_SR.tiff'\n",
    "lutFile = '/projects/s3-drive/catalog-data/Campaign_data/afrisar_dlr/afrisar_dlr_T2-0_lut.tiff'\n",
    "\n",
    "import projectors\n",
    "projectors.GrdToSlrProj(demGrdFile, demSlrFile, lutFile, inputFilename)"
   ]
  },
  {
   "cell_type": "markdown",
   "metadata": {},
   "source": [
    "Open DEM in slant range geometry"
   ]
  },
  {
   "cell_type": "code",
   "execution_count": null,
   "metadata": {},
   "outputs": [],
   "source": [
    "dem_driver = gdal.Open(demSlrFile, GA_ReadOnly)\n",
    "dem = dem_driver.ReadAsArray()\n",
    "dem_driver = None"
   ]
  },
  {
   "cell_type": "markdown",
   "metadata": {},
   "source": [
    "Initialise structures and compute of local slope"
   ]
  },
  {
   "cell_type": "code",
   "execution_count": null,
   "metadata": {},
   "outputs": [],
   "source": [
    "angle1 = np.full((RasterYSize, RasterXSize), np.NaN, dtype=dem.dtype)\n",
    "angle2 = np.full((RasterYSize, RasterXSize), np.NaN, dtype=dem.dtype)\n",
    "\n",
    "angle1[:, 1:-1] = np.arctan2(dem[:, 1:-1] - dem[:, :-2], pixel_spacing_rg)\n",
    "angle2[:, 1:-1] = np.arctan2(dem[:, 2:] - dem[:, 1:-1], pixel_spacing_rg)\n",
    "angle = (angle1 + angle2)/2"
   ]
  },
  {
   "cell_type": "markdown",
   "metadata": {},
   "source": [
    "Filter angle map (boxcarFilter 5x5)"
   ]
  },
  {
   "cell_type": "code",
   "execution_count": null,
   "metadata": {},
   "outputs": [],
   "source": [
    "size = [5, 5]\n",
    "angle = sg.convolve2d(angle, np.ones(size), 'same') / (size[0] * size[1])"
   ]
  },
  {
   "cell_type": "markdown",
   "metadata": {},
   "source": [
    "Local incidence angle computation"
   ]
  },
  {
   "cell_type": "code",
   "execution_count": null,
   "metadata": {},
   "outputs": [],
   "source": [
    "theta_inc_map = np.abs(np.arccos((z_flight - z_terrain) / (SLR_start + np.mgrid[:RasterYSize, :RasterXSize][1] * pixel_spacing_rg)) - angle)"
   ]
  },
  {
   "cell_type": "markdown",
   "metadata": {},
   "source": [
    "Display incidence angle map in slant range geometry"
   ]
  },
  {
   "cell_type": "code",
   "execution_count": null,
   "metadata": {},
   "outputs": [],
   "source": [
    "imgplot = plt.imshow(theta_inc_map)"
   ]
  },
  {
   "cell_type": "markdown",
   "metadata": {},
   "source": [
    "## 3. Calibrate SAR image"
   ]
  },
  {
   "cell_type": "markdown",
   "metadata": {},
   "source": [
    "Calibration of the SAR data to Sigma0 (natural)"
   ]
  },
  {
   "cell_type": "code",
   "execution_count": null,
   "metadata": {},
   "outputs": [],
   "source": [
    "sigma0 = np.absolute(input_image)**2 * np.sin(theta_inc_map)\n",
    "\n",
    "# Close dataset to save memory:\n",
    "theta_inc_map = None\n",
    "\n",
    "# Filter bad data:\n",
    "sigma0[sigma0 <= 0] = np.NaN"
   ]
  },
  {
   "cell_type": "markdown",
   "metadata": {},
   "source": [
    "Example of basic multilooking: 5x5 boxcar filter (can be changed to increase number of looks)"
   ]
  },
  {
   "cell_type": "code",
   "execution_count": null,
   "metadata": {},
   "outputs": [],
   "source": [
    "size = [5, 5]\n",
    "sigma0 = sg.convolve2d(sigma0, np.ones(size), 'same') / (size[0] * size[1])"
   ]
  },
  {
   "cell_type": "markdown",
   "metadata": {},
   "source": [
    "Convert to dB and set a threshold to -45 dB (arbitrary value)"
   ]
  },
  {
   "cell_type": "code",
   "execution_count": null,
   "metadata": {},
   "outputs": [],
   "source": [
    "sigma0 = 10 * np.log10(sigma0)\n",
    "sigma0[sigma0 < -45] = -45"
   ]
  },
  {
   "cell_type": "markdown",
   "metadata": {},
   "source": [
    "Display sigma0 in slant range geometry"
   ]
  },
  {
   "cell_type": "code",
   "execution_count": null,
   "metadata": {},
   "outputs": [],
   "source": [
    "imgplot = plt.imshow(sigma0)"
   ]
  },
  {
   "cell_type": "markdown",
   "metadata": {},
   "source": [
    "Save calibrated sigma0 in slant-range geometry"
   ]
  },
  {
   "cell_type": "code",
   "execution_count": null,
   "metadata": {},
   "outputs": [],
   "source": [
    "slrFile = '/projects/sigma0.tiff'\n",
    "\n",
    "# Save output image in slant range geometry:\n",
    "outdriver = gdal.GetDriverByName('GTiff')\n",
    "output_image_driver = outdriver.Create(slrFile, RasterXSize, RasterYSize, 1, gdal.GDT_Float32)\n",
    "output_image_driver.GetRasterBand(1).WriteArray(sigma0)\n",
    "output_image_driver = None"
   ]
  }
 ],
 "metadata": {
  "kernelspec": {
   "display_name": "Sar_Training",
   "language": "python",
   "name": "sar_training"
  },
  "language_info": {
   "codemirror_mode": {
    "name": "ipython",
    "version": 3
   },
   "file_extension": ".py",
   "mimetype": "text/x-python",
   "name": "python",
   "nbconvert_exporter": "python",
   "pygments_lexer": "ipython3",
   "version": "3.7.7"
  }
 },
 "nbformat": 4,
 "nbformat_minor": 4
}
