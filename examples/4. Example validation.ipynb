{
 "cells": [
  {
   "cell_type": "markdown",
   "metadata": {},
   "source": [
    "# Example of validation"
   ]
  },
  {
   "cell_type": "markdown",
   "metadata": {},
   "source": [
    "Example of validation (statistics computation) on the ESA MAAP."
   ]
  },
  {
   "cell_type": "markdown",
   "metadata": {},
   "source": [
    "Load the libraries"
   ]
  },
  {
   "cell_type": "code",
   "execution_count": null,
   "metadata": {},
   "outputs": [],
   "source": [
    "from osgeo import gdal\n",
    "from gdalconst import GA_ReadOnly\n",
    "import matplotlib.pyplot as plt\n",
    "import matplotlib.lines as mlines\n",
    "from matplotlib.colors import LinearSegmentedColormap\n",
    "import sys\n",
    "sys.path.insert(0,'/projects/Scripts')\n",
    "import roiStatistics"
   ]
  },
  {
   "cell_type": "markdown",
   "metadata": {},
   "source": [
    "## 1. Definition of ROIS"
   ]
  },
  {
   "cell_type": "markdown",
   "metadata": {},
   "source": [
    "List of considered Regions of Interest (ROI) and related in-situ measurements for La Lope"
   ]
  },
  {
   "cell_type": "code",
   "execution_count": null,
   "metadata": {},
   "outputs": [],
   "source": [
    "rois = ['LOP01h', 'LOP02h', 'LOP03h', 'LOP07h', 'LOP08h', 'LOP09h', 'LOP10h', 'LOP11h', 'LOP12h', 'LPG01h', 'LPG02h']\n",
    "measuredBiomasses = [0.0, 0.3, 15.5, 317.9, 290.4, 348.6, 375.1, 349.7, 321.4, 439.1, 547.3]\n",
    "measuredHeights = [0.2, 0.3, 1.3, 33.2, 30.5, 39.7, 30.9, 28.6, 25.9, 31.8, 33.4]"
   ]
  },
  {
   "cell_type": "markdown",
   "metadata": {},
   "source": [
    "## 2. Open and display product"
   ]
  },
  {
   "cell_type": "markdown",
   "metadata": {},
   "source": [
    "Open biomass map"
   ]
  },
  {
   "cell_type": "code",
   "execution_count": null,
   "metadata": {},
   "outputs": [],
   "source": [
    "biomassFilename = '/projects/biomass_GR.tiff'\n",
    "\n",
    "input_image_driver = gdal.Open(biomassFilename, GA_ReadOnly)\n",
    "estimatedBiomasses = input_image_driver.ReadAsArray()"
   ]
  },
  {
   "cell_type": "markdown",
   "metadata": {},
   "source": [
    "Display biomass map"
   ]
  },
  {
   "cell_type": "code",
   "execution_count": null,
   "metadata": {},
   "outputs": [],
   "source": [
    "plt.rcParams[\"figure.figsize\"]=30,30\n",
    "plt.rcParams.update({'font.size': 30})\n",
    "fig, ax = plt.subplots()\n",
    "customCmap = LinearSegmentedColormap.from_list('biomass', ['#F5F5DC', 'g', '#004500'])\n",
    "\n",
    "# Display image\n",
    "cax = ax.imshow(estimatedBiomasses, cmap=customCmap, extent=(0, input_image_driver.RasterXSize, 0, input_image_driver.RasterYSize))\n",
    "\n",
    "# Set figure Layout:\n",
    "ax.set_xlabel('Longitude (m)')\n",
    "ax.set_ylabel('Latitude (m)')\n",
    "cbar = fig.colorbar(cax)\n",
    "cbar.set_label('Biomass (ton/ha)')"
   ]
  },
  {
   "cell_type": "markdown",
   "metadata": {},
   "source": [
    "## 3. Compute statistics"
   ]
  },
  {
   "cell_type": "markdown",
   "metadata": {},
   "source": [
    "Computation of the biomass image statistics over the ROIs"
   ]
  },
  {
   "cell_type": "code",
   "execution_count": null,
   "metadata": {},
   "outputs": [],
   "source": [
    "shapeFolderPrefix = '/projects/s3-drive/catalog-data/Campaign_data/afrisar_dlr/afrisar_dlr_roi_'\n",
    "\n",
    "stats = roiStatistics.getRoiStats(biomassFilename, shapeFolderPrefix, rois)\n",
    "estimatedBiomasses = stats['mean']"
   ]
  },
  {
   "cell_type": "markdown",
   "metadata": {},
   "source": [
    "Estimates per ROI"
   ]
  },
  {
   "cell_type": "code",
   "execution_count": null,
   "metadata": {},
   "outputs": [],
   "source": [
    "i=0\n",
    "print(rois[i])\n",
    "print(stats['mean'][i])\n",
    "print(stats['min'][i])\n",
    "print(stats['max'][i])\n",
    "print(stats['std'][i])\n",
    "print(stats['count'][i])"
   ]
  },
  {
   "cell_type": "markdown",
   "metadata": {},
   "source": [
    "Compute statistics"
   ]
  },
  {
   "cell_type": "code",
   "execution_count": null,
   "metadata": {},
   "outputs": [],
   "source": [
    "statistics = roiStatistics.stats(estimatedBiomasses, measuredBiomasses)\n",
    "[slope, intercept, r_value, p_value, std_err, bias, covariance, rmsd] = statistics\n",
    "print('slope :' + str(slope))\n",
    "print('intercept :' + str(intercept))\n",
    "print('r_value :' + str(r_value))\n",
    "print('p_value :' + str(p_value))\n",
    "print('std_err :' + str(std_err))\n",
    "print('bias :' + str(bias))\n",
    "print('covariance :' + str(covariance))\n",
    "print('rmsd :' + str(rmsd))"
   ]
  },
  {
   "cell_type": "markdown",
   "metadata": {},
   "source": [
    "Trace estimated biomass vs in-situ measurements"
   ]
  },
  {
   "cell_type": "code",
   "execution_count": null,
   "metadata": {},
   "outputs": [],
   "source": [
    "plt.rcParams.update(plt.rcParamsDefault)\n",
    "\n",
    "# Trace of the estimated versus measured biomass according to the given parameters.\n",
    "title = 'Title (' + '$r^2$=' + str(round(r_value**2, 2)) + ' | $RMSD$=' + str(round(rmsd, 1)) + ')'\n",
    "\n",
    "# Trace values:\n",
    "fig, ax = plt.subplots()\n",
    "plt.title(title)\n",
    "ax.plot(estimatedBiomasses, measuredBiomasses, 'bo')\n",
    "\n",
    "# Trace reference line:\n",
    "maximum = (max(max(estimatedBiomasses), max(measuredBiomasses), 199)//200 + 1) * 200\n",
    "ax.plot([0,maximum], [0,maximum], '-k')\n",
    "\n",
    "# Trace trend line\n",
    "ax.plot([0, maximum], [intercept, maximum * slope + intercept], '-g')\n",
    "blue_line = mlines.Line2D([], [], color='green', label='Trendline ($a$=' + str(round(slope, 2)) + ' | $b$=' + str(round(intercept, 2)) + ')')\n",
    "ax.legend(handles=[blue_line], fancybox = True, shadow = True, loc = 'best', prop={'size':12})\n",
    "\n",
    "# define axis:\n",
    "ax.axis([0, maximum, 0, maximum])\n",
    "\n",
    "# Set figure Layout:\n",
    "ax.set_aspect('equal', adjustable='box')\n",
    "ax.set_xlabel('Estimated biomass (ton/ha)')\n",
    "ax.set_ylabel('Ground truth biomass (ton/ha)')\n",
    "ax.grid(True)\n",
    "\n",
    "plt.show()"
   ]
  },
  {
   "cell_type": "code",
   "execution_count": null,
   "metadata": {},
   "outputs": [],
   "source": []
  }
 ],
 "metadata": {
  "kernelspec": {
   "display_name": "Python 3 (ipykernel)",
   "language": "python",
   "name": "python3"
  },
  "language_info": {
   "codemirror_mode": {
    "name": "ipython",
    "version": 3
   },
   "file_extension": ".py",
   "mimetype": "text/x-python",
   "name": "python",
   "nbconvert_exporter": "python",
   "pygments_lexer": "ipython3",
   "version": "3.9.7"
  }
 },
 "nbformat": 4,
 "nbformat_minor": 4
}
