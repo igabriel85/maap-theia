{
 "cells": [
  {
   "cell_type": "markdown",
   "metadata": {},
   "source": [
    "# Simple Level-2 Above Ground Biomass algorithm"
   ]
  },
  {
   "cell_type": "markdown",
   "metadata": {},
   "source": [
    "## 0. Import necessary libraries"
   ]
  },
  {
   "cell_type": "code",
   "execution_count": null,
   "metadata": {},
   "outputs": [],
   "source": [
    "from osgeo import gdal\n",
    "from gdalconst import GA_ReadOnly\n",
    "import matplotlib.pyplot as plt\n",
    "import scipy.signal as sg\n",
    "import sys\n",
    "sys.path.insert(0,'/projects/Scripts')\n",
    "\n",
    "# Increase figure size (can be modified for bigger or smaller figures):\n",
    "plt.rcParams[\"figure.figsize\"] = 20,20"
   ]
  },
  {
   "cell_type": "markdown",
   "metadata": {},
   "source": [
    "## 1. Open Sigma0 product"
   ]
  },
  {
   "cell_type": "markdown",
   "metadata": {},
   "source": [
    "Open SAR image (HV polarisation) in slant range geometry"
   ]
  },
  {
   "cell_type": "code",
   "execution_count": null,
   "metadata": {},
   "outputs": [],
   "source": [
    "inputFilename = '/projects/sigma0.tiff'\n",
    "input_image_driver = gdal.Open(inputFilename, GA_ReadOnly)\n",
    "sigma0 = input_image_driver.ReadAsArray()"
   ]
  },
  {
   "cell_type": "markdown",
   "metadata": {},
   "source": [
    "## 2. Compute the AGB product"
   ]
  },
  {
   "cell_type": "markdown",
   "metadata": {},
   "source": [
    "Apply linear model: $$ y = A.x + B $$"
   ]
  },
  {
   "cell_type": "code",
   "execution_count": null,
   "metadata": {},
   "outputs": [],
   "source": [
    "A = 12.850826574881816\n",
    "B = 311.8969972706446\n",
    "\n",
    "# generate biomass map\n",
    "estimatedBiomasses = A*sigma0 + B\n",
    "estimatedBiomasses[estimatedBiomasses < 0] = 0\n",
    "\n",
    "# Close dataset to save memory:\n",
    "sigma0 = None"
   ]
  },
  {
   "cell_type": "markdown",
   "metadata": {},
   "source": [
    "Display the AGB image"
   ]
  },
  {
   "cell_type": "code",
   "execution_count": null,
   "metadata": {},
   "outputs": [],
   "source": [
    "imgplot = plt.imshow(estimatedBiomasses)"
   ]
  },
  {
   "cell_type": "markdown",
   "metadata": {},
   "source": [
    "Save the AGB map in slant-range geometry"
   ]
  },
  {
   "cell_type": "code",
   "execution_count": null,
   "metadata": {},
   "outputs": [],
   "source": [
    "slrFile = '/projects/biomass_SR.tiff'\n",
    "\n",
    "# Save output image in slant range geometry:\n",
    "outdriver = gdal.GetDriverByName('GTiff')\n",
    "output_image_driver = outdriver.Create(slrFile, input_image_driver.RasterXSize, input_image_driver.RasterYSize, 1, gdal.GDT_Float32)\n",
    "output_image_driver.GetRasterBand(1).WriteArray(estimatedBiomasses)\n",
    "output_image_driver = None"
   ]
  }
 ],
 "metadata": {
  "kernelspec": {
   "display_name": "Sar_Training",
   "language": "python",
   "name": "sar_training"
  },
  "language_info": {
   "codemirror_mode": {
    "name": "ipython",
    "version": 3
   },
   "file_extension": ".py",
   "mimetype": "text/x-python",
   "name": "python",
   "nbconvert_exporter": "python",
   "pygments_lexer": "ipython3",
   "version": "3.7.7"
  }
 },
 "nbformat": 4,
 "nbformat_minor": 4
}
