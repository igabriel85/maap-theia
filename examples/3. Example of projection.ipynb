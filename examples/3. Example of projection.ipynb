{
 "cells": [
  {
   "cell_type": "markdown",
   "metadata": {},
   "source": [
    "# Example of projection"
   ]
  },
  {
   "cell_type": "markdown",
   "metadata": {},
   "source": [
    "Example of projection and geocoding of P-band SAR data on the NASA MAAP."
   ]
  },
  {
   "cell_type": "markdown",
   "metadata": {},
   "source": [
    "Load the libraries"
   ]
  },
  {
   "cell_type": "code",
   "execution_count": null,
   "metadata": {},
   "outputs": [],
   "source": [
    "from osgeo import gdal\n",
    "from gdalconst import GA_ReadOnly\n",
    "import matplotlib.pyplot as plt\n",
    "import sys\n",
    "sys.path.insert(0, '/projects/Scripts')\n",
    "\n",
    "# Increase figure size:\n",
    "plt.rcParams[\"figure.figsize\"] = 20,20"
   ]
  },
  {
   "cell_type": "markdown",
   "metadata": {},
   "source": [
    "\n",
    "## 1. Project and geocode image"
   ]
  },
  {
   "cell_type": "markdown",
   "metadata": {},
   "source": [
    "Projection and georeferencing "
   ]
  },
  {
   "cell_type": "code",
   "execution_count": null,
   "metadata": {},
   "outputs": [],
   "source": [
    "slrFile = '/projects/biomass_SR.tiff'\n",
    "grdFile = '/projects/biomass_GR.tiff'\n",
    "lutFile = '/projects/s3-drive/catalog-data/Campaign_data/afrisar_dlr/afrisar_dlr_T2-0_lut.tiff'\n",
    "\n",
    "import projectors\n",
    "projectors.SlrToGrdProj(slrFile, grdFile, lutFile)"
   ]
  },
  {
   "cell_type": "markdown",
   "metadata": {},
   "source": [
    "## 2. Open and display result"
   ]
  },
  {
   "cell_type": "markdown",
   "metadata": {},
   "source": [
    "Open SAR image in ground range geometry"
   ]
  },
  {
   "cell_type": "code",
   "execution_count": null,
   "metadata": {},
   "outputs": [],
   "source": [
    "input_image_driver = gdal.Open(grdFile, GA_ReadOnly)\n",
    "biomass = input_image_driver.ReadAsArray()"
   ]
  },
  {
   "cell_type": "markdown",
   "metadata": {},
   "source": [
    "Display sigma0 in ground range geometry"
   ]
  },
  {
   "cell_type": "code",
   "execution_count": null,
   "metadata": {},
   "outputs": [],
   "source": [
    "imgplot = plt.imshow(biomass)"
   ]
  },
  {
   "cell_type": "code",
   "execution_count": null,
   "metadata": {},
   "outputs": [],
   "source": []
  }
 ],
 "metadata": {
  "kernelspec": {
   "display_name": "Sar_Training",
   "language": "python",
   "name": "sar_training"
  },
  "language_info": {
   "codemirror_mode": {
    "name": "ipython",
    "version": 3
   },
   "file_extension": ".py",
   "mimetype": "text/x-python",
   "name": "python",
   "nbconvert_exporter": "python",
   "pygments_lexer": "ipython3",
   "version": "3.7.7"
  }
 },
 "nbformat": 4,
 "nbformat_minor": 4
}
