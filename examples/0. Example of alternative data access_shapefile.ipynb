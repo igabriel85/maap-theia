{
 "cells": [
  {
   "cell_type": "markdown",
   "metadata": {},
   "source": [
    "# Example of alternative data access"
   ]
  },
  {
   "cell_type": "markdown",
   "metadata": {},
   "source": [
    "Example of data access via the API"
   ]
  },
  {
   "cell_type": "markdown",
   "metadata": {},
   "source": [
    "Load the libraries"
   ]
  },
  {
   "cell_type": "code",
   "execution_count": null,
   "metadata": {},
   "outputs": [],
   "source": [
    "from osgeo import gdal\n",
    "from gdalconst import GA_ReadOnly\n",
    "import numpy as np\n",
    "import matplotlib.pyplot as plt\n",
    "import scipy.signal as sg\n",
    "import sys\n",
    "import requests\n",
    "import os\n",
    "sys.path.insert(0,'/projects/Scripts')\n",
    "\n",
    "# Increase figure size (can be modified for bigger or smaller figures):\n",
    "plt.rcParams[\"figure.figsize\"]=20,20"
   ]
  },
  {
   "cell_type": "markdown",
   "metadata": {},
   "source": [
    "## 1. List the available datasets"
   ]
  },
  {
   "cell_type": "markdown",
   "metadata": {},
   "source": [
    "GET ALL AVAILABLE datasetId and correlated subDasetId"
   ]
  },
  {
   "cell_type": "code",
   "execution_count": null,
   "metadata": {},
   "outputs": [],
   "source": [
    "endpoint = \"https://edav-das.val.esa-maap.org\"\n",
    "dat = requests.get(endpoint+\"/opensearch/datasets\")\n",
    "if dat.status_code == 200: \n",
    "    response = []\n",
    "    datasets = dat.json()[\"features\"]\n",
    "    for feature in datasets:\n",
    "        elem = {}\n",
    "        elem[\"datasetId\"] = feature[\"datasetId\"]\n",
    "        elem[\"subDatasetIds\"] = []\n",
    "        for subdset in feature[\"subDataset\"]:\n",
    "            elem[\"subDatasetIds\"].append(subdset)\n",
    "        response.append(elem) \n",
    "        \n",
    "    for ds in response:\n",
    "        print(ds, \"\\n\")"
   ]
  },
  {
   "cell_type": "markdown",
   "metadata": {},
   "source": [
    "## 2. Discover the granule for a specific datasetId & subDatasetId"
   ]
  },
  {
   "cell_type": "markdown",
   "metadata": {},
   "source": [
    "Below you see the code to discover the products/granules.\n",
    "\n",
    "You can also filter using all the metadata querable prameters of the new metadata model implemented within the post_v1 (e.g. SceneType_value, gridType, ...) "
   ]
  },
  {
   "cell_type": "code",
   "execution_count": null,
   "metadata": {},
   "outputs": [],
   "source": [
    "datasetId = \"AFRISAR_DLR\"\n",
    "subDatasetId = \"AFRISAR_DLR_SLC_HH\"\n",
    "SceneType_value = \"T2-0\"\n",
    "req = requests.get(endpoint + \"/opensearch/search\", params = {\"SceneType_value\":SceneType_value, \"datasetId\":datasetId, \"subDatasetId\":subDatasetId})\n",
    "if req.status_code == 200:\n",
    "    result = req.json()[\"features\"]\n",
    "    print(len(result))\n",
    "    print(result)"
   ]
  },
  {
   "cell_type": "markdown",
   "metadata": {},
   "source": [
    "## 3. Download the product/granule of interest"
   ]
  },
  {
   "cell_type": "markdown",
   "metadata": {},
   "source": [
    "Below you see the code to download the products/granules of interest"
   ]
  },
  {
   "cell_type": "code",
   "execution_count": null,
   "metadata": {},
   "outputs": [],
   "source": [
    "if len(result) > 0:\n",
    "    for feature in result:\n",
    "        print(feature)\n",
    "        if \"geolocated\" in feature and feature[\"geolocated\"] == 'True':\n",
    "            wcs_query = endpoint + \"/wcs?\" + feature[\"sourceRasterGeo\"]\n",
    "        else:\n",
    "            wcs_query = feature[\"source\"]\n",
    "            \n",
    "        print(wcs_query)\n",
    "        inputFilename = os.path.basename(wcs_query)\n",
    "        r = requests.get(wcs_query, stream = True)\n",
    "        if r.status_code == 200:\n",
    "            with open(inputFilename, 'wb') as f:\n",
    "                for chunk in r:\n",
    "                    f.write(chunk)"
   ]
  },
  {
   "cell_type": "markdown",
   "metadata": {},
   "source": [
    "Open the downloaded image for verification"
   ]
  },
  {
   "cell_type": "code",
   "execution_count": null,
   "metadata": {},
   "outputs": [],
   "source": [
    "input_image_driver = gdal.Open(inputFilename, GA_ReadOnly)\n",
    "input_image = input_image_driver.ReadAsArray()\n",
    "input_image_driver = None\n",
    "imgplot = plt.imshow(np.absolute(input_image))"
   ]
  },
  {
   "cell_type": "markdown",
   "metadata": {},
   "source": [
    "## 4. To access the product/granule of interest directly in the bucket"
   ]
  },
  {
   "cell_type": "markdown",
   "metadata": {},
   "source": [
    "Below you see the code to access the products/granules of interest"
   ]
  },
  {
   "cell_type": "code",
   "execution_count": null,
   "metadata": {},
   "outputs": [],
   "source": [
    "import os\n",
    "if len(result) > 0:\n",
    "    for feature in result:\n",
    "        if \"geolocated\" in feature and feature[\"geolocated\"] == 'True':\n",
    "            wcs_query = endpoint + \"/wcs?\" + feature[\"sourceRasterGeo\"]\n",
    "        else:\n",
    "            wcs_query = feature[\"source\"]\n",
    "            \n",
    "print(wcs_query)\n",
    "os.environ[\"GDAL_DISABLE_READDIR_ON_OPEN\"] = \"EMPTY_DIR\"\n",
    "\n",
    "try:\n",
    "    input_image_driver = gdal.Open(\"/vsicurl/\" + wcs_query, GA_ReadOnly)\n",
    "except Exception as e:\n",
    "    print(e)\n",
    "    \n",
    "input_image = input_image_driver.ReadAsArray()\n",
    "input_image_driver = None"
   ]
  },
  {
   "cell_type": "markdown",
   "metadata": {},
   "source": [
    "Display SAR image in slant range geometry"
   ]
  },
  {
   "cell_type": "code",
   "execution_count": null,
   "metadata": {},
   "outputs": [],
   "source": [
    "imgplot = plt.imshow(np.absolute(input_image))"
   ]
  },
  {
   "cell_type": "markdown",
   "metadata": {},
   "source": [
    "# 5. Download a shapefile"
   ]
  },
  {
   "cell_type": "code",
   "execution_count": null,
   "metadata": {},
   "outputs": [],
   "source": [
    "datasetId = \"AFRISAR_DLR\"\n",
    "subDatasetId = \"AFRISAR_DLR_ROI\"\n",
    "SceneType_value = \"SAV1\" \n",
    "req = requests.get(endpoint + \"/opensearch/search\", params = {\"SceneType_value\":SceneType_value, \"datasetId\":datasetId, \"subDatasetId\":subDatasetId})\n",
    "if req.status_code == 200:\n",
    "    result = req.json()[\"features\"]\n",
    "    print(len(result))\n",
    "    print(result)"
   ]
  },
  {
   "cell_type": "code",
   "execution_count": null,
   "metadata": {},
   "outputs": [],
   "source": [
    "import os\n",
    "if len(result) > 0:\n",
    "    for feature in result:\n",
    "        for file in feature[\"source\"].split(\",\"):\n",
    "            r = requests.get(file)\n",
    "            if r.status_code == 200:\n",
    "                with open(os.path.basename(file), 'wb') as f:\n",
    "                    for chunk in r:\n",
    "                        f.write(chunk)"
   ]
  },
  {
   "cell_type": "markdown",
   "metadata": {},
   "source": [
    "# 6. Usefull command lines and tools"
   ]
  },
  {
   "cell_type": "markdown",
   "metadata": {},
   "source": [
    "List all the allocated variables:"
   ]
  },
  {
   "cell_type": "code",
   "execution_count": null,
   "metadata": {},
   "outputs": [],
   "source": [
    "who"
   ]
  },
  {
   "cell_type": "markdown",
   "metadata": {},
   "source": [
    "List all the allocated variables and provide their type and content:"
   ]
  },
  {
   "cell_type": "code",
   "execution_count": null,
   "metadata": {},
   "outputs": [],
   "source": [
    "whos"
   ]
  },
  {
   "cell_type": "code",
   "execution_count": null,
   "metadata": {},
   "outputs": [],
   "source": []
  }
 ],
 "metadata": {
  "kernelspec": {
   "display_name": "Sar_Training",
   "language": "python",
   "name": "sar_training"
  },
  "language_info": {
   "codemirror_mode": {
    "name": "ipython",
    "version": 3
   },
   "file_extension": ".py",
   "mimetype": "text/x-python",
   "name": "python",
   "nbconvert_exporter": "python",
   "pygments_lexer": "ipython3",
   "version": "3.7.7"
  }
 },
 "nbformat": 4,
 "nbformat_minor": 4
}
